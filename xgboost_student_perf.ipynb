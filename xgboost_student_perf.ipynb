{
 "cells": [
  {
   "cell_type": "markdown",
   "id": "146d7741",
   "metadata": {},
   "source": [
    "# XGBoost Classification for Student Performance\n",
    "This notebook predicts student performance based on gameplay event data using XGBoost.\n",
    "Data Source: [Kaggle Competition](https://www.kaggle.com/competitions/predict-student-performance-from-game-play)"
   ]
  },
  {
   "cell_type": "markdown",
   "id": "15c3061b",
   "metadata": {},
   "source": [
    "## 1. Imports and Setup"
   ]
  },
  {
   "cell_type": "code",
   "execution_count": 1,
   "id": "36116ddc",
   "metadata": {},
   "outputs": [],
   "source": [
    "import pandas as pd\n",
    "import numpy as np\n",
    "import xgboost as xgb\n",
    "from sklearn.model_selection import train_test_split\n",
    "from sklearn.metrics import classification_report, accuracy_score, roc_auc_score, confusion_matrix, ConfusionMatrixDisplay\n",
    "import matplotlib.pyplot as plt\n",
    "import seaborn as sns\n",
    "\n",
    "plt.style.use(\"ggplot\")\n"
   ]
  },
  {
   "cell_type": "markdown",
   "id": "6c3bb520",
   "metadata": {},
   "source": [
    "## 2. Load and Inspect Data"
   ]
  },
  {
   "cell_type": "code",
   "execution_count": null,
   "id": "1509cf9c",
   "metadata": {},
   "outputs": [],
   "source": [
    "# Load data\n",
    "train = pd.read_csv(\"train.csv\")\n",
    "test = pd.read_csv(\"test.csv\")\n",
    "\n",
    "# Basic data overview\n",
    "print(\"Train shape:\", train.shape)\n",
    "print(train.head())\n",
    "print(train['correct'].value_counts(normalize=True))\n"
   ]
  },
  {
   "cell_type": "markdown",
   "id": "944cd6e5",
   "metadata": {},
   "source": [
    "## 3. Feature Engineering"
   ]
  },
  {
   "cell_type": "code",
   "execution_count": null,
   "id": "96d97b46",
   "metadata": {},
   "outputs": [],
   "source": [
    "# Aggregate session-level features\n",
    "agg_train = train.groupby(\"session_id\").agg({\n",
    "    \"elapsed_time\": [\"mean\", \"max\", \"std\"],\n",
    "    \"event_code\": \"nunique\",\n",
    "    \"level_group\": \"nunique\"\n",
    "})\n",
    "\n",
    "# Flatten column names\n",
    "agg_train.columns = [\"_\".join(col).strip() for col in agg_train.columns.values]\n",
    "agg_train = agg_train.reset_index()\n",
    "\n",
    "# Get target labels\n",
    "labels = train.groupby(\"session_id\")[\"correct\"].first().reset_index()\n",
    "agg_train = pd.merge(agg_train, labels, on=\"session_id\")\n",
    "\n",
    "# One-hot encode level_group if needed (skipped here since aggregation dropped it)\n"
   ]
  },
  {
   "cell_type": "markdown",
   "id": "77273537",
   "metadata": {},
   "source": [
    "## 4. Prepare Train/Test Data"
   ]
  },
  {
   "cell_type": "code",
   "execution_count": null,
   "id": "ffcfd0ad",
   "metadata": {},
   "outputs": [],
   "source": [
    "X = agg_train.drop([\"session_id\", \"correct\"], axis=1)\n",
    "y = agg_train[\"correct\"]\n",
    "\n",
    "X_train, X_val, y_train, y_val = train_test_split(X, y, test_size=0.2, random_state=42, stratify=y)\n"
   ]
  },
  {
   "cell_type": "markdown",
   "id": "90ff3b0f",
   "metadata": {},
   "source": [
    "## 5. Train XGBoost Model"
   ]
  },
  {
   "cell_type": "code",
   "execution_count": null,
   "id": "7ab7a4cb",
   "metadata": {},
   "outputs": [],
   "source": [
    "model = xgb.XGBClassifier(\n",
    "    n_estimators=100,\n",
    "    learning_rate=0.1,\n",
    "    max_depth=5,\n",
    "    subsample=0.8,\n",
    "    colsample_bytree=0.8,\n",
    "    use_label_encoder=False,\n",
    "    eval_metric=\"logloss\"\n",
    ")\n",
    "model.fit(X_train, y_train)\n"
   ]
  },
  {
   "cell_type": "markdown",
   "id": "0b97ca28",
   "metadata": {},
   "source": [
    "## 6. Evaluate Model"
   ]
  },
  {
   "cell_type": "code",
   "execution_count": null,
   "id": "809ebeb8",
   "metadata": {},
   "outputs": [],
   "source": [
    "y_pred = model.predict(X_val)\n",
    "print(\"Accuracy:\", accuracy_score(y_val, y_pred))\n",
    "print(\"Classification Report:\\n\", classification_report(y_val, y_pred))\n",
    "print(\"ROC AUC Score:\", roc_auc_score(y_val, y_pred))\n",
    "\n",
    "# Confusion matrix\n",
    "ConfusionMatrixDisplay.from_estimator(model, X_val, y_val)\n",
    "plt.title(\"Confusion Matrix\")\n",
    "plt.show()\n"
   ]
  },
  {
   "cell_type": "markdown",
   "id": "06a12f78",
   "metadata": {},
   "source": [
    "## 7. Feature Importance"
   ]
  },
  {
   "cell_type": "code",
   "execution_count": null,
   "id": "1c0f26cc",
   "metadata": {},
   "outputs": [],
   "source": [
    "xgb.plot_importance(model)\n",
    "plt.title(\"Feature Importance\")\n",
    "plt.show()\n"
   ]
  },
  {
   "cell_type": "markdown",
   "id": "8d1bf555",
   "metadata": {},
   "source": [
    "## 8. Predict on Test Set (Optional Submission Format)"
   ]
  },
  {
   "cell_type": "code",
   "execution_count": null,
   "id": "13bb8ff2",
   "metadata": {},
   "outputs": [],
   "source": [
    "# Note: This assumes test set has same structure; adapt if needed\n",
    "# test_agg = similar aggregation on test set\n",
    "# test_preds = model.predict(test_agg.drop(\"session_id\", axis=1))\n",
    "# submission = pd.DataFrame({\"session_id\": test_agg[\"session_id\"], \"correct\": test_preds})\n",
    "# submission.to_csv(\"submission.csv\", index=False)\n"
   ]
  }
 ],
 "metadata": {
  "kernelspec": {
   "display_name": "base",
   "language": "python",
   "name": "python3"
  },
  "language_info": {
   "codemirror_mode": {
    "name": "ipython",
    "version": 3
   },
   "file_extension": ".py",
   "mimetype": "text/x-python",
   "name": "python",
   "nbconvert_exporter": "python",
   "pygments_lexer": "ipython3",
   "version": "3.12.7"
  }
 },
 "nbformat": 4,
 "nbformat_minor": 5
}
